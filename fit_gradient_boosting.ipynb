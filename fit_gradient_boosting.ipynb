{
 "cells": [
  {
   "cell_type": "code",
   "execution_count": 1,
   "metadata": {},
   "outputs": [
    {
     "data": {
      "text/plain": [
       "0.9608829755510281"
      ]
     },
     "execution_count": 1,
     "metadata": {},
     "output_type": "execute_result"
    }
   ],
   "source": [
    "import pandas as pd\n",
    "import numpy as np\n",
    "\n",
    "from sklearn.ensemble import GradientBoostingRegressor\n",
    "from sklearn.metrics import r2_score\n",
    "\n",
    "# Load the dataset\n",
    "file_path = 'data/data_clean.csv'  # Replace with the path to your data file\n",
    "data = pd.read_csv(file_path)\n",
    "\n",
    "# Selecting features and target\n",
    "features = data[['robot_speed', 'layer_height', 'layer_width', ]]\n",
    "target = data['extrusion_speed']  # Scaling the target variable as before\n",
    "\n",
    "# Implementing Gradient Boosting Regressor\n",
    "gbr_model = GradientBoostingRegressor(random_state=42)\n",
    "gbr_model.fit(features, target)\n",
    "\n",
    "y_pred = gbr_model.predict(features)\n",
    "r2_score(target, y_pred)\n"
   ]
  },
  {
   "cell_type": "code",
   "execution_count": 2,
   "metadata": {},
   "outputs": [
    {
     "ename": "NameError",
     "evalue": "name 'lin_model' is not defined",
     "output_type": "error",
     "traceback": [
      "\u001b[0;31m---------------------------------------------------------------------------\u001b[0m",
      "\u001b[0;31mNameError\u001b[0m                                 Traceback (most recent call last)",
      "Cell \u001b[0;32mIn[2], line 11\u001b[0m\n\u001b[1;32m      3\u001b[0m layer_width_test \u001b[38;5;241m=\u001b[39m np\u001b[38;5;241m.\u001b[39mrepeat(\u001b[38;5;241m8\u001b[39m, robot_speed_test\u001b[38;5;241m.\u001b[39mshape[\u001b[38;5;241m0\u001b[39m])\n\u001b[1;32m      5\u001b[0m test_data \u001b[38;5;241m=\u001b[39m pd\u001b[38;5;241m.\u001b[39mDataFrame({\n\u001b[1;32m      6\u001b[0m     \u001b[38;5;124m'\u001b[39m\u001b[38;5;124mrobot_speed\u001b[39m\u001b[38;5;124m'\u001b[39m: robot_speed_test,\n\u001b[1;32m      7\u001b[0m     \u001b[38;5;124m'\u001b[39m\u001b[38;5;124mlayer_height\u001b[39m\u001b[38;5;124m'\u001b[39m: layer_height_test,\n\u001b[1;32m      8\u001b[0m     \u001b[38;5;124m'\u001b[39m\u001b[38;5;124mlayer_width\u001b[39m\u001b[38;5;124m'\u001b[39m: layer_width_test\n\u001b[1;32m      9\u001b[0m })\n\u001b[0;32m---> 11\u001b[0m pred_extrusion_speed \u001b[38;5;241m=\u001b[39m \u001b[43mlin_model\u001b[49m\u001b[38;5;241m.\u001b[39mpredict(test_data)\n\u001b[1;32m     13\u001b[0m test_data[\u001b[38;5;124m\"\u001b[39m\u001b[38;5;124mdo_prediction\u001b[39m\u001b[38;5;124m\"\u001b[39m] \u001b[38;5;241m=\u001b[39m np\u001b[38;5;241m.\u001b[39mfloor((pred_extrusion_speed\u001b[38;5;241m-\u001b[39m\u001b[38;5;241m6\u001b[39m)\u001b[38;5;241m*\u001b[39m\u001b[38;5;241m10\u001b[39m)\n\u001b[1;32m     14\u001b[0m test_data[\u001b[38;5;124m\"\u001b[39m\u001b[38;5;124mrpm_prediction\u001b[39m\u001b[38;5;124m\"\u001b[39m] \u001b[38;5;241m=\u001b[39m pred_extrusion_speed\n",
      "\u001b[0;31mNameError\u001b[0m: name 'lin_model' is not defined"
     ]
    }
   ],
   "source": [
    "robot_speed_test = np.arange(8,29)\n",
    "layer_height_test = np.repeat(5, robot_speed_test.shape[0])\n",
    "layer_width_test = np.repeat(8, robot_speed_test.shape[0])\n",
    "\n",
    "test_data = pd.DataFrame({\n",
    "    'robot_speed': robot_speed_test,\n",
    "    'layer_height': layer_height_test,\n",
    "    'layer_width': layer_width_test\n",
    "})\n",
    "\n",
    "pred_extrusion_speed = gbr_model.predict(test_data)\n",
    "\n",
    "test_data[\"do_prediction\"] = np.floor((pred_extrusion_speed-6)*10)\n",
    "test_data[\"rpm_prediction\"] = pred_extrusion_speed\n",
    "\n",
    "test_data.to_csv('validation_gradient_boosting.csv', index=False)\n",
    "test_data"
   ]
  }
 ],
 "metadata": {
  "kernelspec": {
   "display_name": "keras_gpu",
   "language": "python",
   "name": "python3"
  },
  "language_info": {
   "codemirror_mode": {
    "name": "ipython",
    "version": 3
   },
   "file_extension": ".py",
   "mimetype": "text/x-python",
   "name": "python",
   "nbconvert_exporter": "python",
   "pygments_lexer": "ipython3",
   "version": "3.9.18"
  }
 },
 "nbformat": 4,
 "nbformat_minor": 2
}
