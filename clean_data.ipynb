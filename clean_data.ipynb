{
 "cells": [
  {
   "cell_type": "code",
   "execution_count": null,
   "metadata": {},
   "outputs": [],
   "source": [
    "import pandas as pd\n",
    "import re\n",
    "\n",
    "def extract_numeric(value):\n",
    "    \"\"\"\n",
    "    Extracts the first numeric part of a string and converts it to a float.\n",
    "\n",
    "    Parameters:\n",
    "    value (str or float): The value to process\n",
    "\n",
    "    Returns:\n",
    "    float: The extracted numeric value or the original float\n",
    "    \"\"\"\n",
    "    if isinstance(value, str):\n",
    "        match = re.search(r\"(\\d+(\\.\\d+)?)\", value)\n",
    "        return float(match.group()) if match else None\n",
    "    return value\n",
    "\n",
    "# Path to the original data file\n",
    "original_file_path = 'd:/GitHub/Extrusion-Parameter-Optimization/data.csv'\n",
    "\n",
    "# Path to save the cleaned data\n",
    "cleaned_file_path = 'd:/GitHub/Extrusion-Parameter-Optimization/data_clean.csv'\n",
    "\n",
    "# Load the data\n",
    "data = pd.read_csv(original_file_path)\n",
    "\n",
    "# Drop unnecessary 'Unnamed' columns and the 'Pressure' column\n",
    "data.drop(data.columns[data.columns.str.contains('Unnamed')], axis=1, inplace=True)\n",
    "data.drop('Pressure', axis=1, inplace=True)\n",
    "\n",
    "# Handle missing values in 'RunOrder' by forward fill\n",
    "data['RunOrder'] = data['RunOrder'].ffill()\n",
    "\n",
    "# Clean and convert all columns to numeric, handling special cases\n",
    "for column in data.columns:\n",
    "    data[column] = data[column].apply(extract_numeric)\n",
    "\n",
    "# Group by 'RunOrder' and impute missing values in 'Layer Height' and 'Layer Width' using median within each group\n",
    "for column in ['Layer Height', 'Layer Width']:\n",
    "    data[column] = data.groupby('RunOrder')[column].transform(lambda x: x.fillna(x.median()))\n",
    "\n",
    "# Dropping rows with missing or non-numeric values\n",
    "data.dropna(inplace=True)\n",
    "\n",
    "# Save the cleaned data\n",
    "data.to_csv(cleaned_file_path, index=False)\n",
    "\n",
    "print(f\"Cleaned data saved to {cleaned_file_path}\")\n"
   ]
  }
 ],
 "metadata": {
  "language_info": {
   "name": "python"
  }
 },
 "nbformat": 4,
 "nbformat_minor": 2
}
