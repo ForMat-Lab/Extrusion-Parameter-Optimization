{
 "cells": [
  {
   "cell_type": "code",
   "execution_count": 1,
   "metadata": {},
   "outputs": [],
   "source": [
    "import pandas as pd\n",
    "import re\n",
    "\n",
    "original_file_path = \"data/data.csv\"\n",
    "cleaned_file_path = 'data/data_clean.csv'\n",
    "\n",
    "data = pd.read_csv(original_file_path)"
   ]
  },
  {
   "cell_type": "code",
   "execution_count": 2,
   "metadata": {},
   "outputs": [],
   "source": [
    "grouped_data = data.groupby('run_order')\n",
    "\n",
    "failure_indicator = grouped_data[['layer_height', 'layer_width']].transform(lambda x: int(not x.isna().any()))\n",
    "data['success'] = failure_indicator.any(axis=1)\n",
    "\n",
    "for column in ['layer_height', 'layer_width']:\n",
    "    data[column] = grouped_data[column].transform(lambda x: x.fillna(x.median()))\n"
   ]
  },
  {
   "cell_type": "code",
   "execution_count": 3,
   "metadata": {},
   "outputs": [],
   "source": [
    "data.to_csv(cleaned_file_path, index=False)"
   ]
  }
 ],
 "metadata": {
  "kernelspec": {
   "display_name": "keras_gpu",
   "language": "python",
   "name": "python3"
  },
  "language_info": {
   "codemirror_mode": {
    "name": "ipython",
    "version": 3
   },
   "file_extension": ".py",
   "mimetype": "text/x-python",
   "name": "python",
   "nbconvert_exporter": "python",
   "pygments_lexer": "ipython3",
   "version": "3.9.18"
  }
 },
 "nbformat": 4,
 "nbformat_minor": 2
}
